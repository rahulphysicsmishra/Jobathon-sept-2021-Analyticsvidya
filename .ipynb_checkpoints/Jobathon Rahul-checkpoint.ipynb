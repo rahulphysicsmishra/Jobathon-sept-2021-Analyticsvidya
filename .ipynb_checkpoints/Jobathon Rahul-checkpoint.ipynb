{
 "cells": [
  {
   "cell_type": "code",
   "execution_count": null,
   "id": "04e4ad46",
   "metadata": {},
   "outputs": [],
   "source": []
  },
  {
   "cell_type": "code",
   "execution_count": 92,
   "id": "a61fb2a7",
   "metadata": {},
   "outputs": [],
   "source": [
    "import numpy as np\n",
    "import pandas as pd\n",
    "import matplotlib.pyplot as plt\n"
   ]
  },
  {
   "cell_type": "code",
   "execution_count": 93,
   "id": "a40ed19b",
   "metadata": {},
   "outputs": [
    {
     "data": {
      "text/html": [
       "<div>\n",
       "<style scoped>\n",
       "    .dataframe tbody tr th:only-of-type {\n",
       "        vertical-align: middle;\n",
       "    }\n",
       "\n",
       "    .dataframe tbody tr th {\n",
       "        vertical-align: top;\n",
       "    }\n",
       "\n",
       "    .dataframe thead th {\n",
       "        text-align: right;\n",
       "    }\n",
       "</style>\n",
       "<table border=\"1\" class=\"dataframe\">\n",
       "  <thead>\n",
       "    <tr style=\"text-align: right;\">\n",
       "      <th></th>\n",
       "      <th>ID</th>\n",
       "      <th>Store_id</th>\n",
       "      <th>Store_Type</th>\n",
       "      <th>Location_Type</th>\n",
       "      <th>Region_Code</th>\n",
       "      <th>Date</th>\n",
       "      <th>Holiday</th>\n",
       "      <th>Discount</th>\n",
       "      <th>#Order</th>\n",
       "      <th>Sales</th>\n",
       "    </tr>\n",
       "  </thead>\n",
       "  <tbody>\n",
       "    <tr>\n",
       "      <th>0</th>\n",
       "      <td>T1000001</td>\n",
       "      <td>1</td>\n",
       "      <td>S1</td>\n",
       "      <td>L3</td>\n",
       "      <td>R1</td>\n",
       "      <td>2018-01-01</td>\n",
       "      <td>1</td>\n",
       "      <td>Yes</td>\n",
       "      <td>9</td>\n",
       "      <td>7011.84</td>\n",
       "    </tr>\n",
       "    <tr>\n",
       "      <th>1</th>\n",
       "      <td>T1000002</td>\n",
       "      <td>253</td>\n",
       "      <td>S4</td>\n",
       "      <td>L2</td>\n",
       "      <td>R1</td>\n",
       "      <td>2018-01-01</td>\n",
       "      <td>1</td>\n",
       "      <td>Yes</td>\n",
       "      <td>60</td>\n",
       "      <td>51789.12</td>\n",
       "    </tr>\n",
       "    <tr>\n",
       "      <th>2</th>\n",
       "      <td>T1000003</td>\n",
       "      <td>252</td>\n",
       "      <td>S3</td>\n",
       "      <td>L2</td>\n",
       "      <td>R1</td>\n",
       "      <td>2018-01-01</td>\n",
       "      <td>1</td>\n",
       "      <td>Yes</td>\n",
       "      <td>42</td>\n",
       "      <td>36868.20</td>\n",
       "    </tr>\n",
       "    <tr>\n",
       "      <th>3</th>\n",
       "      <td>T1000004</td>\n",
       "      <td>251</td>\n",
       "      <td>S2</td>\n",
       "      <td>L3</td>\n",
       "      <td>R1</td>\n",
       "      <td>2018-01-01</td>\n",
       "      <td>1</td>\n",
       "      <td>Yes</td>\n",
       "      <td>23</td>\n",
       "      <td>19715.16</td>\n",
       "    </tr>\n",
       "    <tr>\n",
       "      <th>4</th>\n",
       "      <td>T1000005</td>\n",
       "      <td>250</td>\n",
       "      <td>S2</td>\n",
       "      <td>L3</td>\n",
       "      <td>R4</td>\n",
       "      <td>2018-01-01</td>\n",
       "      <td>1</td>\n",
       "      <td>Yes</td>\n",
       "      <td>62</td>\n",
       "      <td>45614.52</td>\n",
       "    </tr>\n",
       "  </tbody>\n",
       "</table>\n",
       "</div>"
      ],
      "text/plain": [
       "         ID  Store_id Store_Type Location_Type Region_Code        Date  \\\n",
       "0  T1000001         1         S1            L3          R1  2018-01-01   \n",
       "1  T1000002       253         S4            L2          R1  2018-01-01   \n",
       "2  T1000003       252         S3            L2          R1  2018-01-01   \n",
       "3  T1000004       251         S2            L3          R1  2018-01-01   \n",
       "4  T1000005       250         S2            L3          R4  2018-01-01   \n",
       "\n",
       "   Holiday Discount  #Order     Sales  \n",
       "0        1      Yes       9   7011.84  \n",
       "1        1      Yes      60  51789.12  \n",
       "2        1      Yes      42  36868.20  \n",
       "3        1      Yes      23  19715.16  \n",
       "4        1      Yes      62  45614.52  "
      ]
     },
     "execution_count": 93,
     "metadata": {},
     "output_type": "execute_result"
    }
   ],
   "source": [
    "train = pd.read_csv('TRAIN.csv')\n",
    "test = pd.read_csv('TEST_FINAL.csv')\n",
    "train.head()"
   ]
  },
  {
   "cell_type": "code",
   "execution_count": 94,
   "id": "a6b979e6",
   "metadata": {},
   "outputs": [
    {
     "data": {
      "text/html": [
       "<div>\n",
       "<style scoped>\n",
       "    .dataframe tbody tr th:only-of-type {\n",
       "        vertical-align: middle;\n",
       "    }\n",
       "\n",
       "    .dataframe tbody tr th {\n",
       "        vertical-align: top;\n",
       "    }\n",
       "\n",
       "    .dataframe thead th {\n",
       "        text-align: right;\n",
       "    }\n",
       "</style>\n",
       "<table border=\"1\" class=\"dataframe\">\n",
       "  <thead>\n",
       "    <tr style=\"text-align: right;\">\n",
       "      <th></th>\n",
       "      <th>ID</th>\n",
       "      <th>Store_id</th>\n",
       "      <th>Store_Type</th>\n",
       "      <th>Location_Type</th>\n",
       "      <th>Region_Code</th>\n",
       "      <th>Date</th>\n",
       "      <th>Holiday</th>\n",
       "      <th>Discount</th>\n",
       "    </tr>\n",
       "  </thead>\n",
       "  <tbody>\n",
       "    <tr>\n",
       "      <th>0</th>\n",
       "      <td>T1188341</td>\n",
       "      <td>171</td>\n",
       "      <td>S4</td>\n",
       "      <td>L2</td>\n",
       "      <td>R3</td>\n",
       "      <td>2019-06-01</td>\n",
       "      <td>0</td>\n",
       "      <td>No</td>\n",
       "    </tr>\n",
       "    <tr>\n",
       "      <th>1</th>\n",
       "      <td>T1188342</td>\n",
       "      <td>172</td>\n",
       "      <td>S1</td>\n",
       "      <td>L1</td>\n",
       "      <td>R1</td>\n",
       "      <td>2019-06-01</td>\n",
       "      <td>0</td>\n",
       "      <td>No</td>\n",
       "    </tr>\n",
       "    <tr>\n",
       "      <th>2</th>\n",
       "      <td>T1188343</td>\n",
       "      <td>173</td>\n",
       "      <td>S4</td>\n",
       "      <td>L2</td>\n",
       "      <td>R1</td>\n",
       "      <td>2019-06-01</td>\n",
       "      <td>0</td>\n",
       "      <td>No</td>\n",
       "    </tr>\n",
       "    <tr>\n",
       "      <th>3</th>\n",
       "      <td>T1188344</td>\n",
       "      <td>174</td>\n",
       "      <td>S1</td>\n",
       "      <td>L1</td>\n",
       "      <td>R4</td>\n",
       "      <td>2019-06-01</td>\n",
       "      <td>0</td>\n",
       "      <td>No</td>\n",
       "    </tr>\n",
       "    <tr>\n",
       "      <th>4</th>\n",
       "      <td>T1188345</td>\n",
       "      <td>170</td>\n",
       "      <td>S1</td>\n",
       "      <td>L1</td>\n",
       "      <td>R2</td>\n",
       "      <td>2019-06-01</td>\n",
       "      <td>0</td>\n",
       "      <td>No</td>\n",
       "    </tr>\n",
       "  </tbody>\n",
       "</table>\n",
       "</div>"
      ],
      "text/plain": [
       "         ID  Store_id Store_Type Location_Type Region_Code        Date  \\\n",
       "0  T1188341       171         S4            L2          R3  2019-06-01   \n",
       "1  T1188342       172         S1            L1          R1  2019-06-01   \n",
       "2  T1188343       173         S4            L2          R1  2019-06-01   \n",
       "3  T1188344       174         S1            L1          R4  2019-06-01   \n",
       "4  T1188345       170         S1            L1          R2  2019-06-01   \n",
       "\n",
       "   Holiday Discount  \n",
       "0        0       No  \n",
       "1        0       No  \n",
       "2        0       No  \n",
       "3        0       No  \n",
       "4        0       No  "
      ]
     },
     "execution_count": 94,
     "metadata": {},
     "output_type": "execute_result"
    }
   ],
   "source": [
    "test.head()"
   ]
  },
  {
   "cell_type": "code",
   "execution_count": 95,
   "id": "21db6f35",
   "metadata": {},
   "outputs": [
    {
     "name": "stdout",
     "output_type": "stream",
     "text": [
      "<class 'pandas.core.frame.DataFrame'>\n",
      "RangeIndex: 188340 entries, 0 to 188339\n",
      "Data columns (total 10 columns):\n",
      " #   Column         Non-Null Count   Dtype  \n",
      "---  ------         --------------   -----  \n",
      " 0   ID             188340 non-null  object \n",
      " 1   Store_id       188340 non-null  int64  \n",
      " 2   Store_Type     188340 non-null  object \n",
      " 3   Location_Type  188340 non-null  object \n",
      " 4   Region_Code    188340 non-null  object \n",
      " 5   Date           188340 non-null  object \n",
      " 6   Holiday        188340 non-null  int64  \n",
      " 7   Discount       188340 non-null  object \n",
      " 8   #Order         188340 non-null  int64  \n",
      " 9   Sales          188340 non-null  float64\n",
      "dtypes: float64(1), int64(3), object(6)\n",
      "memory usage: 14.4+ MB\n"
     ]
    }
   ],
   "source": [
    "train.info()"
   ]
  },
  {
   "cell_type": "code",
   "execution_count": 96,
   "id": "632c73f6",
   "metadata": {},
   "outputs": [],
   "source": [
    "train['Year'] = [i[0] for i in train.Date.str.split('-').values]\n",
    "test['Year'] = [i[0] for i in test.Date.str.split('-').values]"
   ]
  },
  {
   "cell_type": "code",
   "execution_count": 97,
   "id": "ce13c840",
   "metadata": {},
   "outputs": [],
   "source": [
    "train['Month'] = [i[1] for i in train.Date.str.split('-').values]\n",
    "test['Month'] = [i[1] for i in test.Date.str.split('-').values]"
   ]
  },
  {
   "cell_type": "code",
   "execution_count": 98,
   "id": "8dee1cd6",
   "metadata": {},
   "outputs": [],
   "source": [
    "train['Day'] = [i[1] for i in train.Date.str.split('-').values]\n",
    "test['Day'] = [i[1] for i in test.Date.str.split('-').values]"
   ]
  },
  {
   "cell_type": "code",
   "execution_count": 99,
   "id": "bcf89e34",
   "metadata": {},
   "outputs": [],
   "source": [
    "train['Year'] = train['Year'].map({'2018': 2, '2019': 1})\n",
    "test['Year'] = test['Year'].map({'2018': 2, '2019': 1})"
   ]
  },
  {
   "cell_type": "code",
   "execution_count": 100,
   "id": "88d0674b",
   "metadata": {},
   "outputs": [],
   "source": [
    "train['Date'] = pd.to_datetime(train['Date'])\n",
    "test['Date'] = pd.to_datetime(test['Date'])"
   ]
  },
  {
   "cell_type": "code",
   "execution_count": 101,
   "id": "5255e86f",
   "metadata": {},
   "outputs": [],
   "source": [
    "train['Year'] = train['Year'].astype('int64')\n",
    "test['Year']=test['Year'].astype('int64')\n",
    "train['Month'] = train['Month'].astype('int64')\n",
    "test['Month']=test['Month'].astype('int64')\n",
    "train['Day'] = train['Day'].astype('int64')\n",
    "test['Day']=test['Day'].astype('int64')"
   ]
  },
  {
   "cell_type": "code",
   "execution_count": 102,
   "id": "5866d56e",
   "metadata": {},
   "outputs": [
    {
     "name": "stdout",
     "output_type": "stream",
     "text": [
      "<class 'pandas.core.frame.DataFrame'>\n",
      "RangeIndex: 188340 entries, 0 to 188339\n",
      "Data columns (total 13 columns):\n",
      " #   Column         Non-Null Count   Dtype         \n",
      "---  ------         --------------   -----         \n",
      " 0   ID             188340 non-null  object        \n",
      " 1   Store_id       188340 non-null  int64         \n",
      " 2   Store_Type     188340 non-null  object        \n",
      " 3   Location_Type  188340 non-null  object        \n",
      " 4   Region_Code    188340 non-null  object        \n",
      " 5   Date           188340 non-null  datetime64[ns]\n",
      " 6   Holiday        188340 non-null  int64         \n",
      " 7   Discount       188340 non-null  object        \n",
      " 8   #Order         188340 non-null  int64         \n",
      " 9   Sales          188340 non-null  float64       \n",
      " 10  Year           188340 non-null  int64         \n",
      " 11  Month          188340 non-null  int64         \n",
      " 12  Day            188340 non-null  int64         \n",
      "dtypes: datetime64[ns](1), float64(1), int64(6), object(5)\n",
      "memory usage: 18.7+ MB\n"
     ]
    }
   ],
   "source": [
    "train.info()"
   ]
  },
  {
   "cell_type": "code",
   "execution_count": 103,
   "id": "96e1c1bb",
   "metadata": {},
   "outputs": [],
   "source": [
    "train = train.drop('#Order', axis=1)\n",
    "train = train.drop('Date', axis=1)\n",
    "test = test.drop('Date', axis=1)"
   ]
  },
  {
   "cell_type": "code",
   "execution_count": 104,
   "id": "266c4c37",
   "metadata": {},
   "outputs": [
    {
     "data": {
      "text/html": [
       "<div>\n",
       "<style scoped>\n",
       "    .dataframe tbody tr th:only-of-type {\n",
       "        vertical-align: middle;\n",
       "    }\n",
       "\n",
       "    .dataframe tbody tr th {\n",
       "        vertical-align: top;\n",
       "    }\n",
       "\n",
       "    .dataframe thead th {\n",
       "        text-align: right;\n",
       "    }\n",
       "</style>\n",
       "<table border=\"1\" class=\"dataframe\">\n",
       "  <thead>\n",
       "    <tr style=\"text-align: right;\">\n",
       "      <th></th>\n",
       "      <th>ID</th>\n",
       "      <th>Store_id</th>\n",
       "      <th>Store_Type</th>\n",
       "      <th>Location_Type</th>\n",
       "      <th>Region_Code</th>\n",
       "      <th>Holiday</th>\n",
       "      <th>Discount</th>\n",
       "      <th>Sales</th>\n",
       "      <th>Year</th>\n",
       "      <th>Month</th>\n",
       "      <th>Day</th>\n",
       "    </tr>\n",
       "  </thead>\n",
       "  <tbody>\n",
       "    <tr>\n",
       "      <th>0</th>\n",
       "      <td>T1000001</td>\n",
       "      <td>1</td>\n",
       "      <td>S1</td>\n",
       "      <td>L3</td>\n",
       "      <td>R1</td>\n",
       "      <td>1</td>\n",
       "      <td>Yes</td>\n",
       "      <td>7011.84</td>\n",
       "      <td>2</td>\n",
       "      <td>1</td>\n",
       "      <td>1</td>\n",
       "    </tr>\n",
       "    <tr>\n",
       "      <th>1</th>\n",
       "      <td>T1000002</td>\n",
       "      <td>253</td>\n",
       "      <td>S4</td>\n",
       "      <td>L2</td>\n",
       "      <td>R1</td>\n",
       "      <td>1</td>\n",
       "      <td>Yes</td>\n",
       "      <td>51789.12</td>\n",
       "      <td>2</td>\n",
       "      <td>1</td>\n",
       "      <td>1</td>\n",
       "    </tr>\n",
       "    <tr>\n",
       "      <th>2</th>\n",
       "      <td>T1000003</td>\n",
       "      <td>252</td>\n",
       "      <td>S3</td>\n",
       "      <td>L2</td>\n",
       "      <td>R1</td>\n",
       "      <td>1</td>\n",
       "      <td>Yes</td>\n",
       "      <td>36868.20</td>\n",
       "      <td>2</td>\n",
       "      <td>1</td>\n",
       "      <td>1</td>\n",
       "    </tr>\n",
       "    <tr>\n",
       "      <th>3</th>\n",
       "      <td>T1000004</td>\n",
       "      <td>251</td>\n",
       "      <td>S2</td>\n",
       "      <td>L3</td>\n",
       "      <td>R1</td>\n",
       "      <td>1</td>\n",
       "      <td>Yes</td>\n",
       "      <td>19715.16</td>\n",
       "      <td>2</td>\n",
       "      <td>1</td>\n",
       "      <td>1</td>\n",
       "    </tr>\n",
       "    <tr>\n",
       "      <th>4</th>\n",
       "      <td>T1000005</td>\n",
       "      <td>250</td>\n",
       "      <td>S2</td>\n",
       "      <td>L3</td>\n",
       "      <td>R4</td>\n",
       "      <td>1</td>\n",
       "      <td>Yes</td>\n",
       "      <td>45614.52</td>\n",
       "      <td>2</td>\n",
       "      <td>1</td>\n",
       "      <td>1</td>\n",
       "    </tr>\n",
       "  </tbody>\n",
       "</table>\n",
       "</div>"
      ],
      "text/plain": [
       "         ID  Store_id Store_Type Location_Type Region_Code  Holiday Discount  \\\n",
       "0  T1000001         1         S1            L3          R1        1      Yes   \n",
       "1  T1000002       253         S4            L2          R1        1      Yes   \n",
       "2  T1000003       252         S3            L2          R1        1      Yes   \n",
       "3  T1000004       251         S2            L3          R1        1      Yes   \n",
       "4  T1000005       250         S2            L3          R4        1      Yes   \n",
       "\n",
       "      Sales  Year  Month  Day  \n",
       "0   7011.84     2      1    1  \n",
       "1  51789.12     2      1    1  \n",
       "2  36868.20     2      1    1  \n",
       "3  19715.16     2      1    1  \n",
       "4  45614.52     2      1    1  "
      ]
     },
     "execution_count": 104,
     "metadata": {},
     "output_type": "execute_result"
    }
   ],
   "source": [
    "train.head()"
   ]
  },
  {
   "cell_type": "code",
   "execution_count": 105,
   "id": "7f3964dc",
   "metadata": {},
   "outputs": [
    {
     "data": {
      "text/plain": [
       "S1    88752\n",
       "S4    45924\n",
       "S2    28896\n",
       "S3    24768\n",
       "Name: Store_Type, dtype: int64"
      ]
     },
     "execution_count": 105,
     "metadata": {},
     "output_type": "execute_result"
    }
   ],
   "source": [
    "train['Store_Type'].value_counts()"
   ]
  },
  {
   "cell_type": "code",
   "execution_count": 106,
   "id": "86ca67ac",
   "metadata": {},
   "outputs": [
    {
     "data": {
      "text/plain": [
       "<AxesSubplot:xlabel='Store_Type', ylabel='Sales'>"
      ]
     },
     "execution_count": 106,
     "metadata": {},
     "output_type": "execute_result"
    },
    {
     "data": {
      "image/png": "[encoded data removed]",
      "text/plain": [
       "<Figure size 432x288 with 1 Axes>"
      ]
     },
     "metadata": {
      "needs_background": "light"
     },
     "output_type": "display_data"
    }
   ],
   "source": [
    "import seaborn as sns\n",
    "sns.boxplot(x='Store_Type', y='Sales', data=train)"
   ]
  },
  {
   "cell_type": "code",
   "execution_count": 107,
   "id": "46688c45",
   "metadata": {},
   "outputs": [
    {
     "data": {
      "text/plain": [
       "Store_Type\n",
       "S1    3.343866e+09\n",
       "S4    2.752946e+09\n",
       "S3    1.165658e+09\n",
       "S2    7.955308e+08\n",
       "Name: Sales, dtype: float64"
      ]
     },
     "execution_count": 107,
     "metadata": {},
     "output_type": "execute_result"
    }
   ],
   "source": [
    "train.groupby(['Store_Type'])['Sales'].sum().sort_values(ascending=False)"
   ]
  },
  {
   "cell_type": "code",
   "execution_count": 108,
   "id": "f234956e",
   "metadata": {},
   "outputs": [
    {
     "data": {
      "text/plain": [
       "128    516\n",
       "84     516\n",
       "211    516\n",
       "83     516\n",
       "338    516\n",
       "      ... \n",
       "168    516\n",
       "40     516\n",
       "295    516\n",
       "167    516\n",
       "255    516\n",
       "Name: Store_id, Length: 365, dtype: int64"
      ]
     },
     "execution_count": 108,
     "metadata": {},
     "output_type": "execute_result"
    }
   ],
   "source": [
    "train['Store_id'].value_counts()"
   ]
  },
  {
   "cell_type": "code",
   "execution_count": 109,
   "id": "ec2fe525",
   "metadata": {},
   "outputs": [
    {
     "data": {
      "text/plain": [
       "L1    85140\n",
       "L2    48504\n",
       "L3    29928\n",
       "L5    13932\n",
       "L4    10836\n",
       "Name: Location_Type, dtype: int64"
      ]
     },
     "execution_count": 109,
     "metadata": {},
     "output_type": "execute_result"
    }
   ],
   "source": [
    "train['Location_Type'].value_counts()"
   ]
  },
  {
   "cell_type": "code",
   "execution_count": 110,
   "id": "b87edbd8",
   "metadata": {},
   "outputs": [
    {
     "data": {
      "text/plain": [
       "<AxesSubplot:xlabel='Location_Type', ylabel='Sales'>"
      ]
     },
     "execution_count": 110,
     "metadata": {},
     "output_type": "execute_result"
    },
    {
     "data": {
      "image/png": "[encoded data removed]",
      "text/plain": [
       "<Figure size 432x288 with 1 Axes>"
      ]
     },
     "metadata": {
      "needs_background": "light"
     },
     "output_type": "display_data"
    }
   ],
   "source": [
    "sns.boxplot(x='Location_Type', y='Sales', data=train)"
   ]
  },
  {
   "cell_type": "code",
   "execution_count": 111,
   "id": "c2e33b54",
   "metadata": {},
   "outputs": [
    {
     "data": {
      "text/plain": [
       "Store_Type\n",
       "S1    88752\n",
       "S2    28896\n",
       "S3    24768\n",
       "S4    45924\n",
       "Name: Location_Type, dtype: int64"
      ]
     },
     "execution_count": 111,
     "metadata": {},
     "output_type": "execute_result"
    }
   ],
   "source": [
    "store_location_type =train.groupby(['Store_Type'])['Location_Type'].count()\n",
    "store_location_type"
   ]
  },
  {
   "cell_type": "code",
   "execution_count": 112,
   "id": "246c873e",
   "metadata": {},
   "outputs": [
    {
     "data": {
      "text/plain": [
       "<AxesSubplot:ylabel='Location_Type'>"
      ]
     },
     "execution_count": 112,
     "metadata": {},
     "output_type": "execute_result"
    },
    {
     "data": {
      "image/png": "[encoded data removed]",
      "text/plain": [
       "<Figure size 432x288 with 1 Axes>"
      ]
     },
     "metadata": {
      "needs_background": "light"
     },
     "output_type": "display_data"
    }
   ],
   "source": [
    "sns.barplot(x=['S1', 'S2', 'S3', 'S4'], y=store_location_type)"
   ]
  },
  {
   "cell_type": "code",
   "execution_count": 113,
   "id": "3a2ac5a2",
   "metadata": {},
   "outputs": [
    {
     "data": {
      "text/plain": [
       "R1    63984\n",
       "R2    54180\n",
       "R3    44376\n",
       "R4    25800\n",
       "Name: Region_Code, dtype: int64"
      ]
     },
     "execution_count": 113,
     "metadata": {},
     "output_type": "execute_result"
    }
   ],
   "source": [
    "train['Region_Code'].value_counts()"
   ]
  },
  {
   "cell_type": "code",
   "execution_count": 114,
   "id": "89ce59d3",
   "metadata": {},
   "outputs": [
    {
     "data": {
      "text/plain": [
       "Store_Type  Location_Type\n",
       "S1          L1               53148\n",
       "            L2                7224\n",
       "            L3               18576\n",
       "            L4                6192\n",
       "            L5                3612\n",
       "S2          L1                4644\n",
       "            L3                9288\n",
       "            L4                4644\n",
       "            L5               10320\n",
       "S3          L1               13416\n",
       "            L2                9288\n",
       "            L3                2064\n",
       "S4          L1               13932\n",
       "            L2               31992\n",
       "Name: Region_Code, dtype: int64"
      ]
     },
     "execution_count": 114,
     "metadata": {},
     "output_type": "execute_result"
    }
   ],
   "source": [
    "train.groupby(['Store_Type', 'Location_Type'])['Region_Code'].count()"
   ]
  },
  {
   "cell_type": "code",
   "execution_count": 115,
   "id": "b887dbcb",
   "metadata": {},
   "outputs": [
    {
     "data": {
      "text/plain": [
       "Store_Type  Location_Type  Region_Code\n",
       "S1          L1             R1              8772\n",
       "                           R2             18060\n",
       "                           R3             14964\n",
       "                           R4             11352\n",
       "            L2             R1               516\n",
       "                           R2              3096\n",
       "                           R3              2064\n",
       "                           R4              1548\n",
       "            L3             R1              6708\n",
       "                           R2              6708\n",
       "                           R3              4644\n",
       "                           R4               516\n",
       "            L4             R1              3096\n",
       "                           R2              1548\n",
       "                           R3              1548\n",
       "            L5             R1              2064\n",
       "                           R2              1548\n",
       "S2          L1             R1              1032\n",
       "                           R2              1548\n",
       "                           R3              1032\n",
       "                           R4              1032\n",
       "            L3             R1               516\n",
       "                           R2              2580\n",
       "                           R3              3612\n",
       "                           R4              2580\n",
       "            L4             R2              3096\n",
       "                           R3               516\n",
       "                           R4              1032\n",
       "            L5             R1              4128\n",
       "                           R2              3096\n",
       "                           R3              1032\n",
       "                           R4              2064\n",
       "S3          L1             R1              5676\n",
       "                           R2              3612\n",
       "                           R3              3612\n",
       "                           R4               516\n",
       "            L2             R1              2064\n",
       "                           R2              1032\n",
       "                           R3              3612\n",
       "                           R4              2580\n",
       "            L3             R1              1548\n",
       "                           R3               516\n",
       "S4          L1             R1             10836\n",
       "                           R2              1548\n",
       "                           R3              1032\n",
       "                           R4               516\n",
       "            L2             R1             17028\n",
       "                           R2              6708\n",
       "                           R3              6192\n",
       "                           R4              2064\n",
       "Name: Sales, dtype: int64"
      ]
     },
     "execution_count": 115,
     "metadata": {},
     "output_type": "execute_result"
    }
   ],
   "source": [
    "train.groupby(['Store_Type', 'Location_Type', 'Region_Code'])['Sales'].count()"
   ]
  },
  {
   "cell_type": "code",
   "execution_count": 116,
   "id": "d1dfadb1",
   "metadata": {},
   "outputs": [
    {
     "data": {
      "text/plain": [
       "<AxesSubplot:xlabel='Store_Type', ylabel='Sales'>"
      ]
     },
     "execution_count": 116,
     "metadata": {},
     "output_type": "execute_result"
    },
    {
     "data": {
      "image/png": "[encoded data removed]",
      "text/plain": [
       "<Figure size 432x288 with 1 Axes>"
      ]
     },
     "metadata": {
      "needs_background": "light"
     },
     "output_type": "display_data"
    }
   ],
   "source": [
    "sns.barplot(x='Store_Type', y='Sales', hue='Location_Type', data=train)"
   ]
  },
  {
   "cell_type": "code",
   "execution_count": 117,
   "id": "845326a0",
   "metadata": {},
   "outputs": [
    {
     "data": {
      "text/plain": [
       "<AxesSubplot:xlabel='Store_Type', ylabel='Sales'>"
      ]
     },
     "execution_count": 117,
     "metadata": {},
     "output_type": "execute_result"
    },
    {
     "data": {
      "image/png": "[encoded data removed]",
      "text/plain": [
       "<Figure size 432x288 with 1 Axes>"
      ]
     },
     "metadata": {
      "needs_background": "light"
     },
     "output_type": "display_data"
    }
   ],
   "source": [
    "sns.barplot(x='Store_Type', y='Sales', hue='Region_Code', data=train)"
   ]
  },
  {
   "cell_type": "code",
   "execution_count": 118,
   "id": "23f2778a",
   "metadata": {},
   "outputs": [
    {
     "data": {
      "text/plain": [
       "0    163520\n",
       "1     24820\n",
       "Name: Holiday, dtype: int64"
      ]
     },
     "execution_count": 118,
     "metadata": {},
     "output_type": "execute_result"
    }
   ],
   "source": [
    "train['Holiday'].value_counts()"
   ]
  },
  {
   "cell_type": "code",
   "execution_count": 119,
   "id": "08db98e8",
   "metadata": {},
   "outputs": [
    {
     "data": {
      "text/plain": [
       "Holiday  Discount\n",
       "0        Yes         3.700618e+09\n",
       "         No          3.477467e+09\n",
       "1        Yes         4.654923e+08\n",
       "         No          4.144234e+08\n",
       "Name: Sales, dtype: float64"
      ]
     },
     "execution_count": 119,
     "metadata": {},
     "output_type": "execute_result"
    }
   ],
   "source": [
    "train.groupby(['Holiday', 'Discount'])['Sales'].sum().sort_values(ascending=False)"
   ]
  },
  {
   "cell_type": "code",
   "execution_count": 120,
   "id": "64d4191a",
   "metadata": {},
   "outputs": [
    {
     "data": {
      "text/plain": [
       "<AxesSubplot:xlabel='Discount', ylabel='Sales'>"
      ]
     },
     "execution_count": 120,
     "metadata": {},
     "output_type": "execute_result"
    },
    {
     "data": {
      "image/png": "[encoded data removed]",
      "text/plain": [
       "<Figure size 432x288 with 1 Axes>"
      ]
     },
     "metadata": {
      "needs_background": "light"
     },
     "output_type": "display_data"
    }
   ],
   "source": [
    "sns.barplot(x='Discount', y='Sales', hue='Holiday', data=train)"
   ]
  },
  {
   "cell_type": "code",
   "execution_count": 121,
   "id": "9a4cbdc2",
   "metadata": {},
   "outputs": [
    {
     "data": {
      "text/html": [
       "<div>\n",
       "<style scoped>\n",
       "    .dataframe tbody tr th:only-of-type {\n",
       "        vertical-align: middle;\n",
       "    }\n",
       "\n",
       "    .dataframe tbody tr th {\n",
       "        vertical-align: top;\n",
       "    }\n",
       "\n",
       "    .dataframe thead th {\n",
       "        text-align: right;\n",
       "    }\n",
       "</style>\n",
       "<table border=\"1\" class=\"dataframe\">\n",
       "  <thead>\n",
       "    <tr style=\"text-align: right;\">\n",
       "      <th></th>\n",
       "      <th>ID</th>\n",
       "      <th>Store_id</th>\n",
       "      <th>Store_Type</th>\n",
       "      <th>Location_Type</th>\n",
       "      <th>Region_Code</th>\n",
       "      <th>Holiday</th>\n",
       "      <th>Discount</th>\n",
       "      <th>Sales</th>\n",
       "      <th>Year</th>\n",
       "      <th>Month</th>\n",
       "      <th>Day</th>\n",
       "    </tr>\n",
       "  </thead>\n",
       "  <tbody>\n",
       "    <tr>\n",
       "      <th>0</th>\n",
       "      <td>T1000001</td>\n",
       "      <td>1</td>\n",
       "      <td>S1</td>\n",
       "      <td>L3</td>\n",
       "      <td>R1</td>\n",
       "      <td>1</td>\n",
       "      <td>Yes</td>\n",
       "      <td>7011.84</td>\n",
       "      <td>2</td>\n",
       "      <td>1</td>\n",
       "      <td>1</td>\n",
       "    </tr>\n",
       "    <tr>\n",
       "      <th>1</th>\n",
       "      <td>T1000002</td>\n",
       "      <td>253</td>\n",
       "      <td>S4</td>\n",
       "      <td>L2</td>\n",
       "      <td>R1</td>\n",
       "      <td>1</td>\n",
       "      <td>Yes</td>\n",
       "      <td>51789.12</td>\n",
       "      <td>2</td>\n",
       "      <td>1</td>\n",
       "      <td>1</td>\n",
       "    </tr>\n",
       "    <tr>\n",
       "      <th>2</th>\n",
       "      <td>T1000003</td>\n",
       "      <td>252</td>\n",
       "      <td>S3</td>\n",
       "      <td>L2</td>\n",
       "      <td>R1</td>\n",
       "      <td>1</td>\n",
       "      <td>Yes</td>\n",
       "      <td>36868.20</td>\n",
       "      <td>2</td>\n",
       "      <td>1</td>\n",
       "      <td>1</td>\n",
       "    </tr>\n",
       "    <tr>\n",
       "      <th>3</th>\n",
       "      <td>T1000004</td>\n",
       "      <td>251</td>\n",
       "      <td>S2</td>\n",
       "      <td>L3</td>\n",
       "      <td>R1</td>\n",
       "      <td>1</td>\n",
       "      <td>Yes</td>\n",
       "      <td>19715.16</td>\n",
       "      <td>2</td>\n",
       "      <td>1</td>\n",
       "      <td>1</td>\n",
       "    </tr>\n",
       "    <tr>\n",
       "      <th>4</th>\n",
       "      <td>T1000005</td>\n",
       "      <td>250</td>\n",
       "      <td>S2</td>\n",
       "      <td>L3</td>\n",
       "      <td>R4</td>\n",
       "      <td>1</td>\n",
       "      <td>Yes</td>\n",
       "      <td>45614.52</td>\n",
       "      <td>2</td>\n",
       "      <td>1</td>\n",
       "      <td>1</td>\n",
       "    </tr>\n",
       "  </tbody>\n",
       "</table>\n",
       "</div>"
      ],
      "text/plain": [
       "         ID  Store_id Store_Type Location_Type Region_Code  Holiday Discount  \\\n",
       "0  T1000001         1         S1            L3          R1        1      Yes   \n",
       "1  T1000002       253         S4            L2          R1        1      Yes   \n",
       "2  T1000003       252         S3            L2          R1        1      Yes   \n",
       "3  T1000004       251         S2            L3          R1        1      Yes   \n",
       "4  T1000005       250         S2            L3          R4        1      Yes   \n",
       "\n",
       "      Sales  Year  Month  Day  \n",
       "0   7011.84     2      1    1  \n",
       "1  51789.12     2      1    1  \n",
       "2  36868.20     2      1    1  \n",
       "3  19715.16     2      1    1  \n",
       "4  45614.52     2      1    1  "
      ]
     },
     "execution_count": 121,
     "metadata": {},
     "output_type": "execute_result"
    }
   ],
   "source": [
    "train.head()"
   ]
  },
  {
   "cell_type": "code",
   "execution_count": 122,
   "id": "1fe0b8e0",
   "metadata": {},
   "outputs": [
    {
     "data": {
      "text/html": [
       "<div>\n",
       "<style scoped>\n",
       "    .dataframe tbody tr th:only-of-type {\n",
       "        vertical-align: middle;\n",
       "    }\n",
       "\n",
       "    .dataframe tbody tr th {\n",
       "        vertical-align: top;\n",
       "    }\n",
       "\n",
       "    .dataframe thead th {\n",
       "        text-align: right;\n",
       "    }\n",
       "</style>\n",
       "<table border=\"1\" class=\"dataframe\">\n",
       "  <thead>\n",
       "    <tr style=\"text-align: right;\">\n",
       "      <th></th>\n",
       "      <th>ID</th>\n",
       "      <th>Store_id</th>\n",
       "      <th>Store_Type</th>\n",
       "      <th>Location_Type</th>\n",
       "      <th>Region_Code</th>\n",
       "      <th>Holiday</th>\n",
       "      <th>Discount</th>\n",
       "      <th>Year</th>\n",
       "      <th>Month</th>\n",
       "      <th>Day</th>\n",
       "    </tr>\n",
       "  </thead>\n",
       "  <tbody>\n",
       "    <tr>\n",
       "      <th>0</th>\n",
       "      <td>T1188341</td>\n",
       "      <td>171</td>\n",
       "      <td>S4</td>\n",
       "      <td>L2</td>\n",
       "      <td>R3</td>\n",
       "      <td>0</td>\n",
       "      <td>No</td>\n",
       "      <td>1</td>\n",
       "      <td>6</td>\n",
       "      <td>6</td>\n",
       "    </tr>\n",
       "    <tr>\n",
       "      <th>1</th>\n",
       "      <td>T1188342</td>\n",
       "      <td>172</td>\n",
       "      <td>S1</td>\n",
       "      <td>L1</td>\n",
       "      <td>R1</td>\n",
       "      <td>0</td>\n",
       "      <td>No</td>\n",
       "      <td>1</td>\n",
       "      <td>6</td>\n",
       "      <td>6</td>\n",
       "    </tr>\n",
       "    <tr>\n",
       "      <th>2</th>\n",
       "      <td>T1188343</td>\n",
       "      <td>173</td>\n",
       "      <td>S4</td>\n",
       "      <td>L2</td>\n",
       "      <td>R1</td>\n",
       "      <td>0</td>\n",
       "      <td>No</td>\n",
       "      <td>1</td>\n",
       "      <td>6</td>\n",
       "      <td>6</td>\n",
       "    </tr>\n",
       "    <tr>\n",
       "      <th>3</th>\n",
       "      <td>T1188344</td>\n",
       "      <td>174</td>\n",
       "      <td>S1</td>\n",
       "      <td>L1</td>\n",
       "      <td>R4</td>\n",
       "      <td>0</td>\n",
       "      <td>No</td>\n",
       "      <td>1</td>\n",
       "      <td>6</td>\n",
       "      <td>6</td>\n",
       "    </tr>\n",
       "    <tr>\n",
       "      <th>4</th>\n",
       "      <td>T1188345</td>\n",
       "      <td>170</td>\n",
       "      <td>S1</td>\n",
       "      <td>L1</td>\n",
       "      <td>R2</td>\n",
       "      <td>0</td>\n",
       "      <td>No</td>\n",
       "      <td>1</td>\n",
       "      <td>6</td>\n",
       "      <td>6</td>\n",
       "    </tr>\n",
       "  </tbody>\n",
       "</table>\n",
       "</div>"
      ],
      "text/plain": [
       "         ID  Store_id Store_Type Location_Type Region_Code  Holiday Discount  \\\n",
       "0  T1188341       171         S4            L2          R3        0       No   \n",
       "1  T1188342       172         S1            L1          R1        0       No   \n",
       "2  T1188343       173         S4            L2          R1        0       No   \n",
       "3  T1188344       174         S1            L1          R4        0       No   \n",
       "4  T1188345       170         S1            L1          R2        0       No   \n",
       "\n",
       "   Year  Month  Day  \n",
       "0     1      6    6  \n",
       "1     1      6    6  \n",
       "2     1      6    6  \n",
       "3     1      6    6  \n",
       "4     1      6    6  "
      ]
     },
     "execution_count": 122,
     "metadata": {},
     "output_type": "execute_result"
    }
   ],
   "source": [
    "test.head()"
   ]
  },
  {
   "cell_type": "code",
   "execution_count": 123,
   "id": "3ed09ae5",
   "metadata": {},
   "outputs": [],
   "source": [
    "train['Store_Type'] = train['Store_Type'].map({'S1':4, 'S2': 2, 'S3': 1, 'S4': 3 })\n",
    "train['Location_Type'] = train['Location_Type'].map({'L1': 5, 'L2': 4, 'L3': 3, 'L5': 2, 'L4': 1 })\n",
    "train['Region_Code'] = train['Region_Code'].map({'R1': 4, 'R2': 3, 'R3': 2, 'R4': 1})\n",
    "train['Discount'] = train['Discount'].map({'Yes': 1, 'No': 0})"
   ]
  },
  {
   "cell_type": "code",
   "execution_count": 124,
   "id": "544652c4",
   "metadata": {},
   "outputs": [],
   "source": [
    "test['Store_Type'] = test['Store_Type'].map({'S1':4, 'S2': 2, 'S3': 1, 'S4': 3 })\n",
    "test['Location_Type'] = test['Location_Type'].map({'L1': 5, 'L2': 4, 'L3': 3, 'L5': 2, 'L4': 1 })\n",
    "test['Region_Code'] = test['Region_Code'].map({'R1': 4, 'R2': 3, 'R3': 2, 'R4': 1})\n",
    "test['Discount'] = test['Discount'].map({'Yes': 1, 'No': 0})"
   ]
  },
  {
   "cell_type": "code",
   "execution_count": 125,
   "id": "c58d4370",
   "metadata": {},
   "outputs": [
    {
     "data": {
      "text/html": [
       "<div>\n",
       "<style scoped>\n",
       "    .dataframe tbody tr th:only-of-type {\n",
       "        vertical-align: middle;\n",
       "    }\n",
       "\n",
       "    .dataframe tbody tr th {\n",
       "        vertical-align: top;\n",
       "    }\n",
       "\n",
       "    .dataframe thead th {\n",
       "        text-align: right;\n",
       "    }\n",
       "</style>\n",
       "<table border=\"1\" class=\"dataframe\">\n",
       "  <thead>\n",
       "    <tr style=\"text-align: right;\">\n",
       "      <th></th>\n",
       "      <th>Store_id</th>\n",
       "      <th>Store_Type</th>\n",
       "      <th>Location_Type</th>\n",
       "      <th>Region_Code</th>\n",
       "      <th>Holiday</th>\n",
       "      <th>Discount</th>\n",
       "      <th>Sales</th>\n",
       "      <th>Year</th>\n",
       "      <th>Month</th>\n",
       "      <th>Day</th>\n",
       "    </tr>\n",
       "  </thead>\n",
       "  <tbody>\n",
       "    <tr>\n",
       "      <th>0</th>\n",
       "      <td>1</td>\n",
       "      <td>4</td>\n",
       "      <td>3</td>\n",
       "      <td>4</td>\n",
       "      <td>1</td>\n",
       "      <td>1</td>\n",
       "      <td>7011.84</td>\n",
       "      <td>2</td>\n",
       "      <td>1</td>\n",
       "      <td>1</td>\n",
       "    </tr>\n",
       "    <tr>\n",
       "      <th>1</th>\n",
       "      <td>253</td>\n",
       "      <td>3</td>\n",
       "      <td>4</td>\n",
       "      <td>4</td>\n",
       "      <td>1</td>\n",
       "      <td>1</td>\n",
       "      <td>51789.12</td>\n",
       "      <td>2</td>\n",
       "      <td>1</td>\n",
       "      <td>1</td>\n",
       "    </tr>\n",
       "    <tr>\n",
       "      <th>2</th>\n",
       "      <td>252</td>\n",
       "      <td>1</td>\n",
       "      <td>4</td>\n",
       "      <td>4</td>\n",
       "      <td>1</td>\n",
       "      <td>1</td>\n",
       "      <td>36868.20</td>\n",
       "      <td>2</td>\n",
       "      <td>1</td>\n",
       "      <td>1</td>\n",
       "    </tr>\n",
       "    <tr>\n",
       "      <th>3</th>\n",
       "      <td>251</td>\n",
       "      <td>2</td>\n",
       "      <td>3</td>\n",
       "      <td>4</td>\n",
       "      <td>1</td>\n",
       "      <td>1</td>\n",
       "      <td>19715.16</td>\n",
       "      <td>2</td>\n",
       "      <td>1</td>\n",
       "      <td>1</td>\n",
       "    </tr>\n",
       "    <tr>\n",
       "      <th>4</th>\n",
       "      <td>250</td>\n",
       "      <td>2</td>\n",
       "      <td>3</td>\n",
       "      <td>1</td>\n",
       "      <td>1</td>\n",
       "      <td>1</td>\n",
       "      <td>45614.52</td>\n",
       "      <td>2</td>\n",
       "      <td>1</td>\n",
       "      <td>1</td>\n",
       "    </tr>\n",
       "  </tbody>\n",
       "</table>\n",
       "</div>"
      ],
      "text/plain": [
       "   Store_id  Store_Type  Location_Type  Region_Code  Holiday  Discount  \\\n",
       "0         1           4              3            4        1         1   \n",
       "1       253           3              4            4        1         1   \n",
       "2       252           1              4            4        1         1   \n",
       "3       251           2              3            4        1         1   \n",
       "4       250           2              3            1        1         1   \n",
       "\n",
       "      Sales  Year  Month  Day  \n",
       "0   7011.84     2      1    1  \n",
       "1  51789.12     2      1    1  \n",
       "2  36868.20     2      1    1  \n",
       "3  19715.16     2      1    1  \n",
       "4  45614.52     2      1    1  "
      ]
     },
     "execution_count": 125,
     "metadata": {},
     "output_type": "execute_result"
    }
   ],
   "source": [
    "train = train.drop('ID', axis=1)\n",
    "train.head()"
   ]
  },
  {
   "cell_type": "code",
   "execution_count": null,
   "id": "3feac57e",
   "metadata": {},
   "outputs": [],
   "source": []
  },
  {
   "cell_type": "code",
   "execution_count": 126,
   "id": "1b404b34",
   "metadata": {},
   "outputs": [
    {
     "data": {
      "text/html": [
       "<div>\n",
       "<style scoped>\n",
       "    .dataframe tbody tr th:only-of-type {\n",
       "        vertical-align: middle;\n",
       "    }\n",
       "\n",
       "    .dataframe tbody tr th {\n",
       "        vertical-align: top;\n",
       "    }\n",
       "\n",
       "    .dataframe thead th {\n",
       "        text-align: right;\n",
       "    }\n",
       "</style>\n",
       "<table border=\"1\" class=\"dataframe\">\n",
       "  <thead>\n",
       "    <tr style=\"text-align: right;\">\n",
       "      <th></th>\n",
       "      <th>Store_id</th>\n",
       "      <th>Store_Type</th>\n",
       "      <th>Location_Type</th>\n",
       "      <th>Region_Code</th>\n",
       "      <th>Holiday</th>\n",
       "      <th>Discount</th>\n",
       "      <th>Year</th>\n",
       "      <th>Month</th>\n",
       "      <th>Day</th>\n",
       "    </tr>\n",
       "  </thead>\n",
       "  <tbody>\n",
       "    <tr>\n",
       "      <th>0</th>\n",
       "      <td>171</td>\n",
       "      <td>3</td>\n",
       "      <td>4</td>\n",
       "      <td>2</td>\n",
       "      <td>0</td>\n",
       "      <td>0</td>\n",
       "      <td>1</td>\n",
       "      <td>6</td>\n",
       "      <td>6</td>\n",
       "    </tr>\n",
       "    <tr>\n",
       "      <th>1</th>\n",
       "      <td>172</td>\n",
       "      <td>4</td>\n",
       "      <td>5</td>\n",
       "      <td>4</td>\n",
       "      <td>0</td>\n",
       "      <td>0</td>\n",
       "      <td>1</td>\n",
       "      <td>6</td>\n",
       "      <td>6</td>\n",
       "    </tr>\n",
       "    <tr>\n",
       "      <th>2</th>\n",
       "      <td>173</td>\n",
       "      <td>3</td>\n",
       "      <td>4</td>\n",
       "      <td>4</td>\n",
       "      <td>0</td>\n",
       "      <td>0</td>\n",
       "      <td>1</td>\n",
       "      <td>6</td>\n",
       "      <td>6</td>\n",
       "    </tr>\n",
       "    <tr>\n",
       "      <th>3</th>\n",
       "      <td>174</td>\n",
       "      <td>4</td>\n",
       "      <td>5</td>\n",
       "      <td>1</td>\n",
       "      <td>0</td>\n",
       "      <td>0</td>\n",
       "      <td>1</td>\n",
       "      <td>6</td>\n",
       "      <td>6</td>\n",
       "    </tr>\n",
       "    <tr>\n",
       "      <th>4</th>\n",
       "      <td>170</td>\n",
       "      <td>4</td>\n",
       "      <td>5</td>\n",
       "      <td>3</td>\n",
       "      <td>0</td>\n",
       "      <td>0</td>\n",
       "      <td>1</td>\n",
       "      <td>6</td>\n",
       "      <td>6</td>\n",
       "    </tr>\n",
       "  </tbody>\n",
       "</table>\n",
       "</div>"
      ],
      "text/plain": [
       "   Store_id  Store_Type  Location_Type  Region_Code  Holiday  Discount  Year  \\\n",
       "0       171           3              4            2        0         0     1   \n",
       "1       172           4              5            4        0         0     1   \n",
       "2       173           3              4            4        0         0     1   \n",
       "3       174           4              5            1        0         0     1   \n",
       "4       170           4              5            3        0         0     1   \n",
       "\n",
       "   Month  Day  \n",
       "0      6    6  \n",
       "1      6    6  \n",
       "2      6    6  \n",
       "3      6    6  \n",
       "4      6    6  "
      ]
     },
     "execution_count": 126,
     "metadata": {},
     "output_type": "execute_result"
    }
   ],
   "source": [
    "test = test.drop('ID', axis=1)\n",
    "test.head()"
   ]
  },
  {
   "cell_type": "code",
   "execution_count": 127,
   "id": "ffd58966",
   "metadata": {},
   "outputs": [],
   "source": [
    "from sklearn.model_selection import train_test_split\n",
    "X = train.drop('Sales', axis=1)\n",
    "y = train.Sales"
   ]
  },
  {
   "cell_type": "code",
   "execution_count": 128,
   "id": "d2c9fc9e",
   "metadata": {},
   "outputs": [],
   "source": [
    "# import datetime as dt\n",
    "# X['Date']=X['Date'].map(dt.datetime.toordinal)\n",
    "# test['Date'] = test['Date'].map(dt.datetime.toordinal)"
   ]
  },
  {
   "cell_type": "code",
   "execution_count": 129,
   "id": "42834b4b",
   "metadata": {},
   "outputs": [
    {
     "name": "stdout",
     "output_type": "stream",
     "text": [
      "<class 'pandas.core.frame.DataFrame'>\n",
      "RangeIndex: 188340 entries, 0 to 188339\n",
      "Data columns (total 9 columns):\n",
      " #   Column         Non-Null Count   Dtype\n",
      "---  ------         --------------   -----\n",
      " 0   Store_id       188340 non-null  int64\n",
      " 1   Store_Type     188340 non-null  int64\n",
      " 2   Location_Type  188340 non-null  int64\n",
      " 3   Region_Code    188340 non-null  int64\n",
      " 4   Holiday        188340 non-null  int64\n",
      " 5   Discount       188340 non-null  int64\n",
      " 6   Year           188340 non-null  int64\n",
      " 7   Month          188340 non-null  int64\n",
      " 8   Day            188340 non-null  int64\n",
      "dtypes: int64(9)\n",
      "memory usage: 12.9 MB\n"
     ]
    }
   ],
   "source": [
    "X.info()"
   ]
  },
  {
   "cell_type": "code",
   "execution_count": 130,
   "id": "948d0074",
   "metadata": {},
   "outputs": [
    {
     "name": "stdout",
     "output_type": "stream",
     "text": [
      "<class 'pandas.core.frame.DataFrame'>\n",
      "RangeIndex: 22265 entries, 0 to 22264\n",
      "Data columns (total 9 columns):\n",
      " #   Column         Non-Null Count  Dtype\n",
      "---  ------         --------------  -----\n",
      " 0   Store_id       22265 non-null  int64\n",
      " 1   Store_Type     22265 non-null  int64\n",
      " 2   Location_Type  22265 non-null  int64\n",
      " 3   Region_Code    22265 non-null  int64\n",
      " 4   Holiday        22265 non-null  int64\n",
      " 5   Discount       22265 non-null  int64\n",
      " 6   Year           22265 non-null  int64\n",
      " 7   Month          22265 non-null  int64\n",
      " 8   Day            22265 non-null  int64\n",
      "dtypes: int64(9)\n",
      "memory usage: 1.5 MB\n"
     ]
    }
   ],
   "source": [
    "test.info()"
   ]
  },
  {
   "cell_type": "code",
   "execution_count": 131,
   "id": "2f2620e6",
   "metadata": {},
   "outputs": [
    {
     "data": {
      "text/plain": [
       "0     7011.84\n",
       "1    51789.12\n",
       "2    36868.20\n",
       "3    19715.16\n",
       "4    45614.52\n",
       "Name: Sales, dtype: float64"
      ]
     },
     "execution_count": 131,
     "metadata": {},
     "output_type": "execute_result"
    }
   ],
   "source": [
    "y.head()"
   ]
  },
  {
   "cell_type": "code",
   "execution_count": 132,
   "id": "8ac2d3ec",
   "metadata": {},
   "outputs": [],
   "source": [
    "X_train, X_test, y_train, y_test = train_test_split(X, y, test_size=0.3, random_state=100)"
   ]
  },
  {
   "cell_type": "code",
   "execution_count": 133,
   "id": "4f327a83",
   "metadata": {},
   "outputs": [
    {
     "data": {
      "text/plain": [
       "((131838, 9), (131838,))"
      ]
     },
     "execution_count": 133,
     "metadata": {},
     "output_type": "execute_result"
    }
   ],
   "source": [
    "X_train.shape, y_train.shape"
   ]
  },
  {
   "cell_type": "code",
   "execution_count": 134,
   "id": "326d7239",
   "metadata": {},
   "outputs": [],
   "source": [
    "\n",
    "from sklearn.metrics import accuracy_score, mean_squared_error"
   ]
  },
  {
   "cell_type": "code",
   "execution_count": 142,
   "id": "039bc290",
   "metadata": {},
   "outputs": [],
   "source": [
    "from sklearn.ensemble import RandomForestRegressor\n",
    "rfr = RandomForestRegressor(n_estimators=100, criterion=\"mae\", max_depth=18, random_state=100, max_leaf_nodes=100,min_samples_leaf=3,max_features='auto')\n"
   ]
  },
  {
   "cell_type": "code",
   "execution_count": null,
   "id": "00128706",
   "metadata": {},
   "outputs": [],
   "source": [
    "rfr.fit(X_train, y_train)"
   ]
  },
  {
   "cell_type": "code",
   "execution_count": null,
   "id": "391522c8",
   "metadata": {},
   "outputs": [],
   "source": [
    "rmse = np.sqrt(mean_squared_error(y_train, rfr.predict(X_train)))\n",
    "rmse"
   ]
  },
  {
   "cell_type": "code",
   "execution_count": null,
   "id": "6debdb01",
   "metadata": {},
   "outputs": [],
   "source": [
    "rmse = np.sqrt(mean_squared_error(y_test, rfr.predict(X_test)))\n",
    "rmse"
   ]
  },
  {
   "cell_type": "code",
   "execution_count": 49,
   "id": "2115fc38",
   "metadata": {},
   "outputs": [
    {
     "name": "stdout",
     "output_type": "stream",
     "text": [
      "<class 'pandas.core.frame.DataFrame'>\n",
      "Int64Index: 131838 entries, 22964 to 38408\n",
      "Data columns (total 9 columns):\n",
      " #   Column         Non-Null Count   Dtype\n",
      "---  ------         --------------   -----\n",
      " 0   Store_id       131838 non-null  int64\n",
      " 1   Store_Type     131838 non-null  int64\n",
      " 2   Location_Type  131838 non-null  int64\n",
      " 3   Region_Code    131838 non-null  int64\n",
      " 4   Holiday        131838 non-null  int64\n",
      " 5   Discount       131838 non-null  int64\n",
      " 6   Year           131838 non-null  int64\n",
      " 7   Month          131838 non-null  int64\n",
      " 8   Day            131838 non-null  int64\n",
      "dtypes: int64(9)\n",
      "memory usage: 10.1 MB\n"
     ]
    }
   ],
   "source": [
    "X_train.info()"
   ]
  },
  {
   "cell_type": "code",
   "execution_count": 50,
   "id": "408f864c",
   "metadata": {},
   "outputs": [],
   "source": [
    "from sklearn.preprocessing import StandardScaler\n",
    "scaler = StandardScaler()\n",
    "scaled = scaler.fit_transform(X_train)"
   ]
  },
  {
   "cell_type": "code",
   "execution_count": 51,
   "id": "657252c5",
   "metadata": {},
   "outputs": [
    {
     "data": {
      "text/html": [
       "<div>\n",
       "<style scoped>\n",
       "    .dataframe tbody tr th:only-of-type {\n",
       "        vertical-align: middle;\n",
       "    }\n",
       "\n",
       "    .dataframe tbody tr th {\n",
       "        vertical-align: top;\n",
       "    }\n",
       "\n",
       "    .dataframe thead th {\n",
       "        text-align: right;\n",
       "    }\n",
       "</style>\n",
       "<table border=\"1\" class=\"dataframe\">\n",
       "  <thead>\n",
       "    <tr style=\"text-align: right;\">\n",
       "      <th></th>\n",
       "      <th>Store_id</th>\n",
       "      <th>Store_Type</th>\n",
       "      <th>Location_Type</th>\n",
       "      <th>Region_Code</th>\n",
       "      <th>Holiday</th>\n",
       "      <th>Discount</th>\n",
       "      <th>Year</th>\n",
       "      <th>Month</th>\n",
       "      <th>Day</th>\n",
       "    </tr>\n",
       "  </thead>\n",
       "  <tbody>\n",
       "    <tr>\n",
       "      <th>0</th>\n",
       "      <td>-0.920093</td>\n",
       "      <td>0.883314</td>\n",
       "      <td>0.861681</td>\n",
       "      <td>-1.750618</td>\n",
       "      <td>-0.388809</td>\n",
       "      <td>1.112208</td>\n",
       "      <td>0.643330</td>\n",
       "      <td>-0.734909</td>\n",
       "      <td>-0.734909</td>\n",
       "    </tr>\n",
       "    <tr>\n",
       "      <th>1</th>\n",
       "      <td>0.551451</td>\n",
       "      <td>0.883314</td>\n",
       "      <td>0.861681</td>\n",
       "      <td>-1.750618</td>\n",
       "      <td>-0.388809</td>\n",
       "      <td>1.112208</td>\n",
       "      <td>0.643330</td>\n",
       "      <td>0.737106</td>\n",
       "      <td>0.737106</td>\n",
       "    </tr>\n",
       "    <tr>\n",
       "      <th>2</th>\n",
       "      <td>1.329946</td>\n",
       "      <td>0.883314</td>\n",
       "      <td>-2.493355</td>\n",
       "      <td>1.118755</td>\n",
       "      <td>-0.388809</td>\n",
       "      <td>1.112208</td>\n",
       "      <td>-1.554413</td>\n",
       "      <td>-0.440506</td>\n",
       "      <td>-0.440506</td>\n",
       "    </tr>\n",
       "    <tr>\n",
       "      <th>3</th>\n",
       "      <td>-0.274512</td>\n",
       "      <td>0.883314</td>\n",
       "      <td>-0.815837</td>\n",
       "      <td>0.162297</td>\n",
       "      <td>-0.388809</td>\n",
       "      <td>-0.899112</td>\n",
       "      <td>-1.554413</td>\n",
       "      <td>-0.734909</td>\n",
       "      <td>-0.734909</td>\n",
       "    </tr>\n",
       "    <tr>\n",
       "      <th>4</th>\n",
       "      <td>-0.958068</td>\n",
       "      <td>-0.050570</td>\n",
       "      <td>0.022922</td>\n",
       "      <td>1.118755</td>\n",
       "      <td>-0.388809</td>\n",
       "      <td>-0.899112</td>\n",
       "      <td>0.643330</td>\n",
       "      <td>0.442703</td>\n",
       "      <td>0.442703</td>\n",
       "    </tr>\n",
       "    <tr>\n",
       "      <th>...</th>\n",
       "      <td>...</td>\n",
       "      <td>...</td>\n",
       "      <td>...</td>\n",
       "      <td>...</td>\n",
       "      <td>...</td>\n",
       "      <td>...</td>\n",
       "      <td>...</td>\n",
       "      <td>...</td>\n",
       "      <td>...</td>\n",
       "    </tr>\n",
       "    <tr>\n",
       "      <th>131833</th>\n",
       "      <td>1.016649</td>\n",
       "      <td>0.883314</td>\n",
       "      <td>0.861681</td>\n",
       "      <td>-0.794161</td>\n",
       "      <td>-0.388809</td>\n",
       "      <td>-0.899112</td>\n",
       "      <td>0.643330</td>\n",
       "      <td>0.737106</td>\n",
       "      <td>0.737106</td>\n",
       "    </tr>\n",
       "    <tr>\n",
       "      <th>131834</th>\n",
       "      <td>1.671724</td>\n",
       "      <td>-0.984453</td>\n",
       "      <td>-0.815837</td>\n",
       "      <td>0.162297</td>\n",
       "      <td>-0.388809</td>\n",
       "      <td>-0.899112</td>\n",
       "      <td>0.643330</td>\n",
       "      <td>0.148300</td>\n",
       "      <td>0.148300</td>\n",
       "    </tr>\n",
       "    <tr>\n",
       "      <th>131835</th>\n",
       "      <td>1.007155</td>\n",
       "      <td>-0.984453</td>\n",
       "      <td>-1.654596</td>\n",
       "      <td>0.162297</td>\n",
       "      <td>-0.388809</td>\n",
       "      <td>-0.899112</td>\n",
       "      <td>0.643330</td>\n",
       "      <td>0.737106</td>\n",
       "      <td>0.737106</td>\n",
       "    </tr>\n",
       "    <tr>\n",
       "      <th>131836</th>\n",
       "      <td>0.503982</td>\n",
       "      <td>0.883314</td>\n",
       "      <td>0.861681</td>\n",
       "      <td>-0.794161</td>\n",
       "      <td>-0.388809</td>\n",
       "      <td>1.112208</td>\n",
       "      <td>0.643330</td>\n",
       "      <td>0.148300</td>\n",
       "      <td>0.148300</td>\n",
       "    </tr>\n",
       "    <tr>\n",
       "      <th>131837</th>\n",
       "      <td>0.684365</td>\n",
       "      <td>-1.918336</td>\n",
       "      <td>0.022922</td>\n",
       "      <td>-1.750618</td>\n",
       "      <td>-0.388809</td>\n",
       "      <td>-0.899112</td>\n",
       "      <td>0.643330</td>\n",
       "      <td>-0.440506</td>\n",
       "      <td>-0.440506</td>\n",
       "    </tr>\n",
       "  </tbody>\n",
       "</table>\n",
       "<p>131838 rows × 9 columns</p>\n",
       "</div>"
      ],
      "text/plain": [
       "        Store_id  Store_Type  Location_Type  Region_Code   Holiday  Discount  \\\n",
       "0      -0.920093    0.883314       0.861681    -1.750618 -0.388809  1.112208   \n",
       "1       0.551451    0.883314       0.861681    -1.750618 -0.388809  1.112208   \n",
       "2       1.329946    0.883314      -2.493355     1.118755 -0.388809  1.112208   \n",
       "3      -0.274512    0.883314      -0.815837     0.162297 -0.388809 -0.899112   \n",
       "4      -0.958068   -0.050570       0.022922     1.118755 -0.388809 -0.899112   \n",
       "...          ...         ...            ...          ...       ...       ...   \n",
       "131833  1.016649    0.883314       0.861681    -0.794161 -0.388809 -0.899112   \n",
       "131834  1.671724   -0.984453      -0.815837     0.162297 -0.388809 -0.899112   \n",
       "131835  1.007155   -0.984453      -1.654596     0.162297 -0.388809 -0.899112   \n",
       "131836  0.503982    0.883314       0.861681    -0.794161 -0.388809  1.112208   \n",
       "131837  0.684365   -1.918336       0.022922    -1.750618 -0.388809 -0.899112   \n",
       "\n",
       "            Year     Month       Day  \n",
       "0       0.643330 -0.734909 -0.734909  \n",
       "1       0.643330  0.737106  0.737106  \n",
       "2      -1.554413 -0.440506 -0.440506  \n",
       "3      -1.554413 -0.734909 -0.734909  \n",
       "4       0.643330  0.442703  0.442703  \n",
       "...          ...       ...       ...  \n",
       "131833  0.643330  0.737106  0.737106  \n",
       "131834  0.643330  0.148300  0.148300  \n",
       "131835  0.643330  0.737106  0.737106  \n",
       "131836  0.643330  0.148300  0.148300  \n",
       "131837  0.643330 -0.440506 -0.440506  \n",
       "\n",
       "[131838 rows x 9 columns]"
      ]
     },
     "execution_count": 51,
     "metadata": {},
     "output_type": "execute_result"
    }
   ],
   "source": [
    "X_train_scaled = pd.DataFrame(scaled, columns=X_train.columns)\n",
    "X_train_scaled"
   ]
  },
  {
   "cell_type": "code",
   "execution_count": 52,
   "id": "31bc98f2",
   "metadata": {},
   "outputs": [
    {
     "data": {
      "text/plain": [
       "XGBRegressor(base_score=0.5, booster='gbtree', colsample_bylevel=1,\n",
       "             colsample_bynode=1, colsample_bytree=1, gamma=0.1, gpu_id=-1,\n",
       "             importance_type='gain', interaction_constraints='',\n",
       "             learning_rate=0.1, max_delta_step=0, max_depth=4,\n",
       "             min_child_weight=5, missing=nan, monotone_constraints='()',\n",
       "             n_estimators=110, n_jobs=8, num_parallel_tree=1, random_state=0,\n",
       "             reg_alpha=0, reg_lambda=1, scale_pos_weight=1, subsample=1,\n",
       "             tree_method='exact', validate_parameters=1, verbosity=None)"
      ]
     },
     "execution_count": 52,
     "metadata": {},
     "output_type": "execute_result"
    }
   ],
   "source": [
    "import xgboost as xg\n",
    "boost = xg.XGBRegressor(booster='gbtree', colsample_bylevel=1,\n",
    "             colsample_bynode=1, colsample_bytree=1, gamma=0.1, gpu_id=-1,\n",
    "             importance_type='gain', interaction_constraints='',\n",
    "             learning_rate=0.1, max_delta_step=0, max_depth=4,\n",
    "             min_child_weight=5,\n",
    "             n_estimators=110, n_jobs=8, num_parallel_tree=1, random_state=0,\n",
    "             reg_alpha=0, reg_lambda=1, scale_pos_weight=1, subsample=1,\n",
    "             tree_method='exact', validate_parameters=1, verbosity=None)\n",
    "boost.fit(X_train, y_train)"
   ]
  },
  {
   "cell_type": "code",
   "execution_count": 53,
   "id": "6817760f",
   "metadata": {},
   "outputs": [
    {
     "data": {
      "text/plain": [
       "10940.597457656251"
      ]
     },
     "execution_count": 53,
     "metadata": {},
     "output_type": "execute_result"
    }
   ],
   "source": [
    "rmse = np.sqrt(mean_squared_error(y_train, boost.predict(X_train)))\n",
    "rmse"
   ]
  },
  {
   "cell_type": "code",
   "execution_count": 54,
   "id": "bab769fe",
   "metadata": {},
   "outputs": [
    {
     "data": {
      "text/plain": [
       "10991.818327330142"
      ]
     },
     "execution_count": 54,
     "metadata": {},
     "output_type": "execute_result"
    }
   ],
   "source": [
    "rmse = np.sqrt(mean_squared_error(y_test, boost.predict(X_test)))\n",
    "rmse"
   ]
  },
  {
   "cell_type": "code",
   "execution_count": 85,
   "id": "7d6a0efa",
   "metadata": {},
   "outputs": [
    {
     "data": {
      "text/plain": [
       "SVR()"
      ]
     },
     "execution_count": 85,
     "metadata": {},
     "output_type": "execute_result"
    }
   ],
   "source": [
    "# from sklearn.svm import SVR\n",
    "\n",
    "# svm_reg = SVR()\n",
    "# svm_reg.fit(X_train, y_train)"
   ]
  },
  {
   "cell_type": "code",
   "execution_count": 86,
   "id": "ca8302df",
   "metadata": {},
   "outputs": [
    {
     "data": {
      "text/plain": [
       "18697.455278710702"
      ]
     },
     "execution_count": 86,
     "metadata": {},
     "output_type": "execute_result"
    }
   ],
   "source": [
    "# rmse = np.sqrt(mean_squared_error(y_train, svm_reg.predict(X_train)))\n",
    "# rmse"
   ]
  },
  {
   "cell_type": "code",
   "execution_count": 87,
   "id": "82dfc498",
   "metadata": {},
   "outputs": [
    {
     "data": {
      "text/plain": [
       "18788.340935343007"
      ]
     },
     "execution_count": 87,
     "metadata": {},
     "output_type": "execute_result"
    }
   ],
   "source": [
    "# rmse = np.sqrt(mean_squared_error(y_test, svm_reg.predict(X_test)))\n",
    "# rmse"
   ]
  },
  {
   "cell_type": "code",
   "execution_count": null,
   "id": "b86f015a",
   "metadata": {},
   "outputs": [],
   "source": [
    "# vet, iotx, amp, axs coins"
   ]
  },
  {
   "cell_type": "code",
   "execution_count": 78,
   "id": "f85fc468",
   "metadata": {},
   "outputs": [
    {
     "data": {
      "text/plain": [
       "Ridge(alpha=100, max_iter=10000, random_state=100, solver='sparse_cg')"
      ]
     },
     "execution_count": 78,
     "metadata": {},
     "output_type": "execute_result"
    }
   ],
   "source": [
    "# from sklearn.linear_model import Ridge\n",
    "\n",
    "# ridge = Ridge(alpha=100, max_iter=10000, solver='sparse_cg', random_state=100)\n",
    "# ridge.fit(X_train, y_train)"
   ]
  },
  {
   "cell_type": "code",
   "execution_count": null,
   "id": "043407dd",
   "metadata": {},
   "outputs": [],
   "source": []
  },
  {
   "cell_type": "code",
   "execution_count": 79,
   "id": "89f4c467",
   "metadata": {},
   "outputs": [
    {
     "data": {
      "text/plain": [
       "16175.712838834272"
      ]
     },
     "execution_count": 79,
     "metadata": {},
     "output_type": "execute_result"
    }
   ],
   "source": [
    "# rmse = np.sqrt(mean_squared_error(y_train, ridge.predict(X_train)))\n",
    "# rmse"
   ]
  },
  {
   "cell_type": "code",
   "execution_count": 80,
   "id": "3e2e6253",
   "metadata": {},
   "outputs": [
    {
     "data": {
      "text/plain": [
       "16215.39567982385"
      ]
     },
     "execution_count": 80,
     "metadata": {},
     "output_type": "execute_result"
    }
   ],
   "source": [
    "# rmse = np.sqrt(mean_squared_error(y_test, ridge.predict(X_test)))\n",
    "# rmse"
   ]
  },
  {
   "cell_type": "code",
   "execution_count": 88,
   "id": "e5b1f6a0",
   "metadata": {},
   "outputs": [],
   "source": [
    "final_test_pred = svm_reg.predict(test)"
   ]
  },
  {
   "cell_type": "code",
   "execution_count": 172,
   "id": "4714fa1e",
   "metadata": {},
   "outputs": [
    {
     "data": {
      "text/html": [
       "<div>\n",
       "<style scoped>\n",
       "    .dataframe tbody tr th:only-of-type {\n",
       "        vertical-align: middle;\n",
       "    }\n",
       "\n",
       "    .dataframe tbody tr th {\n",
       "        vertical-align: top;\n",
       "    }\n",
       "\n",
       "    .dataframe thead th {\n",
       "        text-align: right;\n",
       "    }\n",
       "</style>\n",
       "<table border=\"1\" class=\"dataframe\">\n",
       "  <thead>\n",
       "    <tr style=\"text-align: right;\">\n",
       "      <th></th>\n",
       "      <th>ID</th>\n",
       "      <th>Sales</th>\n",
       "    </tr>\n",
       "  </thead>\n",
       "  <tbody>\n",
       "    <tr>\n",
       "      <th>0</th>\n",
       "      <td>T1188341</td>\n",
       "      <td>42275</td>\n",
       "    </tr>\n",
       "    <tr>\n",
       "      <th>1</th>\n",
       "      <td>T1188342</td>\n",
       "      <td>42275</td>\n",
       "    </tr>\n",
       "    <tr>\n",
       "      <th>2</th>\n",
       "      <td>T1188343</td>\n",
       "      <td>42275</td>\n",
       "    </tr>\n",
       "    <tr>\n",
       "      <th>3</th>\n",
       "      <td>T1188344</td>\n",
       "      <td>42275</td>\n",
       "    </tr>\n",
       "    <tr>\n",
       "      <th>4</th>\n",
       "      <td>T1188345</td>\n",
       "      <td>42275</td>\n",
       "    </tr>\n",
       "    <tr>\n",
       "      <th>...</th>\n",
       "      <td>...</td>\n",
       "      <td>...</td>\n",
       "    </tr>\n",
       "    <tr>\n",
       "      <th>22260</th>\n",
       "      <td>T1210601</td>\n",
       "      <td>42275</td>\n",
       "    </tr>\n",
       "    <tr>\n",
       "      <th>22261</th>\n",
       "      <td>T1210602</td>\n",
       "      <td>42275</td>\n",
       "    </tr>\n",
       "    <tr>\n",
       "      <th>22262</th>\n",
       "      <td>T1210603</td>\n",
       "      <td>42275</td>\n",
       "    </tr>\n",
       "    <tr>\n",
       "      <th>22263</th>\n",
       "      <td>T1210604</td>\n",
       "      <td>42275</td>\n",
       "    </tr>\n",
       "    <tr>\n",
       "      <th>22264</th>\n",
       "      <td>T1210605</td>\n",
       "      <td>42275</td>\n",
       "    </tr>\n",
       "  </tbody>\n",
       "</table>\n",
       "<p>22265 rows × 2 columns</p>\n",
       "</div>"
      ],
      "text/plain": [
       "             ID  Sales\n",
       "0      T1188341  42275\n",
       "1      T1188342  42275\n",
       "2      T1188343  42275\n",
       "3      T1188344  42275\n",
       "4      T1188345  42275\n",
       "...         ...    ...\n",
       "22260  T1210601  42275\n",
       "22261  T1210602  42275\n",
       "22262  T1210603  42275\n",
       "22263  T1210604  42275\n",
       "22264  T1210605  42275\n",
       "\n",
       "[22265 rows x 2 columns]"
      ]
     },
     "execution_count": 172,
     "metadata": {},
     "output_type": "execute_result"
    }
   ],
   "source": [
    "subm = pd.read_csv('SAMPLE.csv')\n",
    "subm"
   ]
  },
  {
   "cell_type": "code",
   "execution_count": 89,
   "id": "a89940bd",
   "metadata": {},
   "outputs": [
    {
     "data": {
      "text/plain": [
       "0        T1188341\n",
       "1        T1188342\n",
       "2        T1188343\n",
       "3        T1188344\n",
       "4        T1188345\n",
       "           ...   \n",
       "22260    T1210601\n",
       "22261    T1210602\n",
       "22262    T1210603\n",
       "22263    T1210604\n",
       "22264    T1210605\n",
       "Name: ID, Length: 22265, dtype: object"
      ]
     },
     "execution_count": 89,
     "metadata": {},
     "output_type": "execute_result"
    }
   ],
   "source": [
    "test_file = pd.read_csv('TEST_FINAL.csv')\n",
    "id = test_file.ID\n",
    "id\n"
   ]
  },
  {
   "cell_type": "code",
   "execution_count": 90,
   "id": "0ccf1d26",
   "metadata": {},
   "outputs": [
    {
     "data": {
      "text/html": [
       "<div>\n",
       "<style scoped>\n",
       "    .dataframe tbody tr th:only-of-type {\n",
       "        vertical-align: middle;\n",
       "    }\n",
       "\n",
       "    .dataframe tbody tr th {\n",
       "        vertical-align: top;\n",
       "    }\n",
       "\n",
       "    .dataframe thead th {\n",
       "        text-align: right;\n",
       "    }\n",
       "</style>\n",
       "<table border=\"1\" class=\"dataframe\">\n",
       "  <thead>\n",
       "    <tr style=\"text-align: right;\">\n",
       "      <th></th>\n",
       "      <th>ID</th>\n",
       "      <th>Sales</th>\n",
       "    </tr>\n",
       "  </thead>\n",
       "  <tbody>\n",
       "    <tr>\n",
       "      <th>0</th>\n",
       "      <td>T1188341</td>\n",
       "      <td>39651.795898</td>\n",
       "    </tr>\n",
       "    <tr>\n",
       "      <th>1</th>\n",
       "      <td>T1188342</td>\n",
       "      <td>39650.775508</td>\n",
       "    </tr>\n",
       "    <tr>\n",
       "      <th>2</th>\n",
       "      <td>T1188343</td>\n",
       "      <td>39645.934749</td>\n",
       "    </tr>\n",
       "    <tr>\n",
       "      <th>3</th>\n",
       "      <td>T1188344</td>\n",
       "      <td>39642.341274</td>\n",
       "    </tr>\n",
       "    <tr>\n",
       "      <th>4</th>\n",
       "      <td>T1188345</td>\n",
       "      <td>39657.142777</td>\n",
       "    </tr>\n",
       "    <tr>\n",
       "      <th>...</th>\n",
       "      <td>...</td>\n",
       "      <td>...</td>\n",
       "    </tr>\n",
       "    <tr>\n",
       "      <th>22260</th>\n",
       "      <td>T1210601</td>\n",
       "      <td>39597.240837</td>\n",
       "    </tr>\n",
       "    <tr>\n",
       "      <th>22261</th>\n",
       "      <td>T1210602</td>\n",
       "      <td>40026.288249</td>\n",
       "    </tr>\n",
       "    <tr>\n",
       "      <th>22262</th>\n",
       "      <td>T1210603</td>\n",
       "      <td>39605.546441</td>\n",
       "    </tr>\n",
       "    <tr>\n",
       "      <th>22263</th>\n",
       "      <td>T1210604</td>\n",
       "      <td>39945.594836</td>\n",
       "    </tr>\n",
       "    <tr>\n",
       "      <th>22264</th>\n",
       "      <td>T1210605</td>\n",
       "      <td>39345.221861</td>\n",
       "    </tr>\n",
       "  </tbody>\n",
       "</table>\n",
       "<p>22265 rows × 2 columns</p>\n",
       "</div>"
      ],
      "text/plain": [
       "             ID         Sales\n",
       "0      T1188341  39651.795898\n",
       "1      T1188342  39650.775508\n",
       "2      T1188343  39645.934749\n",
       "3      T1188344  39642.341274\n",
       "4      T1188345  39657.142777\n",
       "...         ...           ...\n",
       "22260  T1210601  39597.240837\n",
       "22261  T1210602  40026.288249\n",
       "22262  T1210603  39605.546441\n",
       "22263  T1210604  39945.594836\n",
       "22264  T1210605  39345.221861\n",
       "\n",
       "[22265 rows x 2 columns]"
      ]
     },
     "execution_count": 90,
     "metadata": {},
     "output_type": "execute_result"
    }
   ],
   "source": [
    "my_sub = pd.DataFrame({'ID': id, 'Sales': final_test_pred})\n",
    "my_sub"
   ]
  },
  {
   "cell_type": "code",
   "execution_count": 91,
   "id": "2805174e",
   "metadata": {},
   "outputs": [],
   "source": [
    "my_sub.to_csv('submission9svm.csv', index=False)"
   ]
  },
  {
   "cell_type": "code",
   "execution_count": null,
   "id": "78539448",
   "metadata": {},
   "outputs": [],
   "source": []
  }
 ],
 "metadata": {
  "kernelspec": {
   "display_name": "Python 3 (ipykernel)",
   "language": "python",
   "name": "python3"
  },
  "language_info": {
   "codemirror_mode": {
    "name": "ipython",
    "version": 3
   },
   "file_extension": ".py",
   "mimetype": "text/x-python",
   "name": "python",
   "nbconvert_exporter": "python",
   "pygments_lexer": "ipython3",
   "version": "3.8.8"
  }
 },
 "nbformat": 4,
 "nbformat_minor": 5
}
